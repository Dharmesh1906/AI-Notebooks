{
  "nbformat": 4,
  "nbformat_minor": 0,
  "metadata": {
    "colab": {
      "name": "MIMO NOMA DATA GENERATE.ipynb",
      "provenance": [],
      "collapsed_sections": [],
      "authorship_tag": "ABX9TyO+5KmQetgaCN55GcRT8g8c",
      "include_colab_link": true
    },
    "kernelspec": {
      "name": "python3",
      "display_name": "Python 3"
    }
  },
  "cells": [
    {
      "cell_type": "markdown",
      "metadata": {
        "id": "view-in-github",
        "colab_type": "text"
      },
      "source": [
        "<a href=\"https://colab.research.google.com/github/dkanzariya/AI-Notebooks/blob/master/MIMO_NOMA_DATA_GENERATE.ipynb\" target=\"_parent\"><img src=\"https://colab.research.google.com/assets/colab-badge.svg\" alt=\"Open In Colab\"/></a>"
      ]
    },
    {
      "cell_type": "code",
      "metadata": {
        "id": "Gd6QKOTlr5Pr",
        "colab_type": "code",
        "colab": {}
      },
      "source": [
        "import numpy as np\n",
        "import math"
      ],
      "execution_count": 187,
      "outputs": []
    },
    {
      "cell_type": "code",
      "metadata": {
        "id": "K8InZ2T6lVrs",
        "colab_type": "code",
        "colab": {}
      },
      "source": [
        "N = 8\n",
        "M = 8\n",
        "SNR_db = np.array(list(range(0 ,11 ,2)))\n",
        "batch_size = 1"
      ],
      "execution_count": 188,
      "outputs": []
    },
    {
      "cell_type": "code",
      "metadata": {
        "id": "qECccLjdsBJ4",
        "colab_type": "code",
        "colab": {}
      },
      "source": [
        "def generate_data(M, batch_size):\n",
        "\n",
        "    input_ = [[0 for _ in range(pow(2, M)) ]for _ in range(M)]\n",
        "    label = [[0 for _ in range(pow(2, M)) ]for _ in range( 2 *M)]\n",
        "\n",
        "    for i in range( 1<<M):\n",
        "        for j in range(M):\n",
        "            if i & ( 1<<j):\n",
        "                input_[ M - j -1][i] = 1\n",
        "\n",
        "    for i in range( 1<<M):\n",
        "        for j in range(M):\n",
        "            if input_[j][i] == 1:\n",
        "                label[ 2 * j][i] = 1\n",
        "                label[ 2 * j + 1][i] = 0\n",
        "            else:\n",
        "                label[ 2 * j][i] = 0\n",
        "                label[ 2 * j + 1][i] = 1\n",
        "\n",
        "    input_ = np.tile(np.array(input_) ,batch_size)\n",
        "    # label = np.tile(np.eye(1 << M), batch_size) #cnn\n",
        "    label =  np.tile(np.array(label) ,batch_size)\n",
        "\n",
        "    return input_, label"
      ],
      "execution_count": 189,
      "outputs": []
    },
    {
      "cell_type": "code",
      "metadata": {
        "id": "HexZvBRWsBBp",
        "colab_type": "code",
        "colab": {}
      },
      "source": [
        "def generate(M, N, batch_size):\n",
        "\n",
        "    data, label = generate_data(M, batch_size)\n",
        "  \n",
        "    ran1 = np.random.permutation(batch_size * pow(2, M))  # Suffling Dataset\n",
        "    ran2 = np.random.permutation(batch_size * pow(2, M))\n",
        "    \n",
        "    symbol1 = 2 * data[:, ran1] - 1\n",
        "    symbol2 = 2 * data[:, ran2] - 1\n",
        "\n",
        "    SPC = math.sqrt(0.8) * symbol1 + math.sqrt(0.2) * symbol2  # Superposition Coding\n",
        "\n",
        "    label1 = np.transpose(label[:, ran1].astype('float32'))\n",
        "    label2 = np.transpose(label[:, ran2].astype('float32'))\n",
        "\n",
        "    return SPC, label1, label2"
      ],
      "execution_count": 190,
      "outputs": []
    },
    {
      "cell_type": "code",
      "metadata": {
        "id": "nidxUaRxsLu_",
        "colab_type": "code",
        "colab": {}
      },
      "source": [
        "def generate_input(H1_real, H1_image, SPC, N, batch_size, sigma):\n",
        "\n",
        "    N_real, N_image = generate_channel(N, batch_size * pow(2, N), 0)\n",
        "\n",
        "    input_real = np.matmul(H1_real, SPC) + sigma * N_real\n",
        "    input_img = np.matmul(H1_image, SPC) + sigma * N_image\n",
        "    \n",
        "    input1 = np.transpose(np.concatenate((input_real, input_img), axis=0))\n",
        "\n",
        "    return input1"
      ],
      "execution_count": 191,
      "outputs": []
    },
    {
      "cell_type": "code",
      "metadata": {
        "id": "k5wKvrmJliaD",
        "colab_type": "code",
        "colab": {}
      },
      "source": [
        "def generate_channel(N, M, k):\n",
        "\n",
        "    h1 = np.random.randn(N, M) / math.sqrt(2)\n",
        "    h2 = np.random.randn(N, M) / math.sqrt(2)\n",
        "\n",
        "    if k == 0:\n",
        "        return h1, h2\n",
        "    else:\n",
        "        return 2 * h1, 2 * h2"
      ],
      "execution_count": 192,
      "outputs": []
    },
    {
      "cell_type": "code",
      "metadata": {
        "id": "Kd4DLD2hltYA",
        "colab_type": "code",
        "colab": {
          "base_uri": "https://localhost:8080/",
          "height": 87
        },
        "outputId": "9d45f831-7711-488d-91f5-d8a5675fc3f5"
      },
      "source": [
        "H1_real, H1_image = generate_channel(N, M, 0)\n",
        "H2_real, H2_image = generate_channel(N, M, 1)\n",
        "\n",
        "print(H1_image.shape)\n",
        "print(H1_real.shape)\n",
        "print(H2_real.shape)\n",
        "print(H2_image.shape)"
      ],
      "execution_count": 193,
      "outputs": [
        {
          "output_type": "stream",
          "text": [
            "(8, 8)\n",
            "(8, 8)\n",
            "(8, 8)\n",
            "(8, 8)\n"
          ],
          "name": "stdout"
        }
      ]
    },
    {
      "cell_type": "code",
      "metadata": {
        "id": "Lb00PkJ7l4Iu",
        "colab_type": "code",
        "colab": {
          "base_uri": "https://localhost:8080/",
          "height": 35
        },
        "outputId": "2786099d-d051-4682-8f2d-84becefaef47"
      },
      "source": [
        "for i in range(len(SNR_db)):\n",
        "\n",
        "        SPC, label_user1, label_user2 = generate(M, N, batch_size)\n",
        "        signal_power = np.mean(pow(SPC, 2))\n",
        "        sigma_user  = math.sqrt(signal_power / (math.sqrt(M) * pow(10, float(SNR_db[i]) / 10.0)))\n",
        "        input = generate_input(H2_real, H2_image, SPC, M, batch_size, sigma_user)\n",
        "\n",
        "print(input.shape , label_user1.shape ,label_user2.shape, SPC.shape, signal_power, sigma_user)"
      ],
      "execution_count": 194,
      "outputs": [
        {
          "output_type": "stream",
          "text": [
            "(256, 16) (256, 16) (256, 16) (8, 256) 1.0234375 0.19022087114333788\n"
          ],
          "name": "stdout"
        }
      ]
    },
    {
      "cell_type": "code",
      "metadata": {
        "id": "7FAYv-GDmT6b",
        "colab_type": "code",
        "colab": {}
      },
      "source": [
        ""
      ],
      "execution_count": 194,
      "outputs": []
    }
  ]
}